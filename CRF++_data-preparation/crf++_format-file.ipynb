{
 "cells": [
  {
   "cell_type": "code",
   "execution_count": 2,
   "metadata": {},
   "outputs": [],
   "source": [
    "import spacy\n",
    "import re"
   ]
  },
  {
   "cell_type": "code",
   "execution_count": 5,
   "metadata": {},
   "outputs": [],
   "source": [
    "delete_list = []\n",
    "for i in range(20):\n",
    "    w = \"[\"\n",
    "    w1 = \"[\"\n",
    "    for j in range(i+1):\n",
    "        w += \"CYTOWANIE\"\n",
    "        w1 += \"CYTOWANIE\"\n",
    "        if i >= 1 and j != i:\n",
    "            w += \",\"\n",
    "            w1 += \", \"\n",
    "    w += \"]\"\n",
    "    w1 += \"]\"\n",
    "    delete_list.append(w)\n",
    "    delete_list.append(w1)\n",
    "            \n",
    "delete_list.append(\"[CYTOWANIE-CYTOWANIE]\")  \n",
    "delete_list.append(\"CYTOWNIE\")\n",
    "\n",
    "\n",
    "re1 = r'(?<=[.])(?=[^\\d])(?=[^\\s])(?=[^a-z])'\n",
    "re2 = r'(?<=[,])(?=[^\\d])(?=[^\\s])'\n",
    "re3 = r'(?<!\\d)\\n'\n",
    "re4 = r'(\\s\\s+)'\n",
    "\n",
    "\n",
    "\n",
    "for i in range(3):\n",
    "    path_file_in = \"inp/1 (\"+ str(i+1) + \").txt\"\n",
    "    path_file_out = \"out/1 (\"+ str(i+1) + \").txt\"  \n",
    "    \n",
    "    file_in = open(path_file_in, \"r\", encoding='utf-8')\n",
    "    file_out = open(path_file_out, \"w+\", encoding='utf-8')\n",
    "    \n",
    "    for line in file_in:\n",
    "        for word in delete_list:\n",
    "            line = line.replace(word, \"CYTOWANIE \")\n",
    "            line = re.sub(\"(%s|%s|%s|%s)\" % (re1, re2, re3, re4), r' ', line)\n",
    "        file_out.write(line)\n",
    "    file_in.close()\n",
    "    file_out.close()"
   ]
  },
  {
   "cell_type": "code",
   "execution_count": 4,
   "metadata": {},
   "outputs": [],
   "source": [
    "for i in range(3):\n",
    "    file = open(\"out/1 (\"+ str(i+1) +\").txt\", \"r\", encoding = 'utf-8')\n",
    "    out_tag = open(\"output_tag/1 (\"+ str(i+1) +\").txt\", \"w+\", encoding = 'utf-8')\n",
    "    nlp = spacy.load(\"en_core_web_sm\")\n",
    "    doc = nlp(file.read())\n",
    "\n",
    "    l = [\"(\", \")\", \"[\", \"]\", \"CYTOWANIE\"]\n",
    "    i = 1\n",
    "    for token in doc:\n",
    "        if i+1 <= len(doc):\n",
    "            t1 = doc[i]\n",
    "\n",
    "        if t1.text == 'CYTOWANIE':\n",
    "            #print(token.text, token.lemma_, token.pos_, token.tag_  + \" B\")\n",
    "            line = str(token.text + \"\\t\" + token.lemma_ + \"\\t\" +  token.tag_  + \"\\t\" +  \"B\\n\")\n",
    "            out_tag.writelines(str(line))\n",
    "        else:\n",
    "            if token.text not in l:\n",
    "                #print(token.text, token.lemma_, token.pos_, token.tag_ + \" O\")\n",
    "                if token.text == \".\":\n",
    "                    line = str(token.text + \"\\t\" +  token.lemma_ + \"\\t\"  +  token.tag_ + \"\\t\" +  \"O\\n\\n\")\n",
    "                else:\n",
    "                    line = str(token.text + \"\\t\" +  token.lemma_ + \"\\t\"  +  token.tag_ + \"\\t\" +  \"O\\n\")\n",
    "                out_tag.writelines(str(line))\n",
    "        i += 1\n",
    "\n",
    "    file.close()\n",
    "    out_tag.close()"
   ]
  },
  {
   "cell_type": "code",
   "execution_count": null,
   "metadata": {},
   "outputs": [],
   "source": [
    "import re\n",
    "re1 = r'(?<=[.])(?=[^\\d])(?=[^\\s])(?=[^a-z])'\n",
    "re2 = r'(?<=[,])(?=[^\\d])(?=[^\\s])'\n",
    "re3 = r'(?<!\\d)\\n'\n",
    "re4 = r'(\\s\\s+)'\n",
    "sentence = '''To jest zdanie.Tu       zaczyna się nowe   zdanie.I tu     też, a to jest \n",
    "liczba 124.24 i druga 2.1,po przecinku tez przyda sie odstep,a np. tu nie potrzeba \n",
    "dodawac nowej spacji. Bo tu spacja już jest 2,4,5 dobrze użyta. Natomiast jeżeli jest slowo.slowo, \n",
    "czyli drugie jest z małej to zostawiamy jak jest na wypadek jakiś wzorów itp.itd.Co innego słowo.Słowo'''\n",
    "\n",
    "re.sub(\"(%s|%s|%s|%s)\" % (re1, re2, re3, re4), r' ', sentence)"
   ]
  },
  {
   "cell_type": "code",
   "execution_count": null,
   "metadata": {},
   "outputs": [],
   "source": []
  },
  {
   "cell_type": "code",
   "execution_count": null,
   "metadata": {},
   "outputs": [],
   "source": []
  },
  {
   "cell_type": "code",
   "execution_count": null,
   "metadata": {},
   "outputs": [],
   "source": []
  }
 ],
 "metadata": {
  "kernelspec": {
   "display_name": "Python 3",
   "language": "python",
   "name": "python3"
  },
  "language_info": {
   "codemirror_mode": {
    "name": "ipython",
    "version": 3
   },
   "file_extension": ".py",
   "mimetype": "text/x-python",
   "name": "python",
   "nbconvert_exporter": "python",
   "pygments_lexer": "ipython3",
   "version": "3.7.6"
  }
 },
 "nbformat": 4,
 "nbformat_minor": 4
}
