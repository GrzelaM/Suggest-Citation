{
 "cells": [
  {
   "cell_type": "code",
   "execution_count": 30,
   "metadata": {},
   "outputs": [],
   "source": [
    "import spacy\n",
    "import re"
   ]
  },
  {
   "cell_type": "code",
   "execution_count": 31,
   "metadata": {},
   "outputs": [],
   "source": [
    "# CYTOWANIA -> CYTOWANIE\n",
    "re1 = r'\\((\\s*CYTOWANIE[\\,\\.\\s\\u2013\\u2212:;-]*)*\\)'\n",
    "# (...) -> \"\"\n",
    "re2 = r'\\([\\w\\s\\.\\,\\u2013\\u2212\\+-=×\\*<>&°^%\\$#@!?\\'\\\"\\\\]*\\)[\\s]*' \n",
    "re3 = r'\\[[\\w\\s\\.\\,\\u2013\\u2212\\+-=×\\*<>&°^%\\$#@!?\\'\\\"\\\\]*\\][\\s]*' \n",
    "# \"    \" -> \" \" && x.X -> x. X\n",
    "re4 = r'(?<=[.])(?=[^\\d])(?=[^\\s])(?=[^a-z])'\n",
    "re5 = r'(?<=[,])(?=[^\\d])(?=[^\\s])'\n",
    "re6 = r'(?<!\\d)\\n'\n",
    "re7 = r'(\\s\\s+)'\n",
    "\n",
    "for i in range(20):\n",
    "    path_file_in = \"inp/1 (\"+ str(i+1) + \").txt\"\n",
    "    path_file_out = \"out/1 (\"+ str(i+1) + \").txt\"  \n",
    "    \n",
    "    file_in = open(path_file_in, \"r\", encoding='ISO-8859-1')\n",
    "    file_out = open(path_file_out, \"w+\", encoding='utf-8')\n",
    "    \n",
    "    for line in file_in:\n",
    "        line = re.sub(\"(%s|%s|%s|%s)\" % (re4,re5,re6,re7), r' ', re.sub(\"(%s|%s)\" % (re2,re3), r'', re.sub(\"(%s)\" % (re1), r' CYTOWANIE ', line)))\n",
    "        file_out.write(line)\n",
    "        \n",
    "    file_in.close()\n",
    "    file_out.close()"
   ]
  },
  {
   "cell_type": "code",
   "execution_count": 93,
   "metadata": {},
   "outputs": [],
   "source": [
    "for i in range(20):\n",
    "    file = open(\"out/1 (\"+ str(i+1) +\").txt\", \"r\", encoding = 'utf-8')\n",
    "    out_tag = open(\"output_tag/1 (\"+ str(i+1) +\").txt\", \"w+\", encoding = 'utf-8')\n",
    "    nlp = spacy.load(\"en_core_web_sm\")\n",
    "    doc = nlp(file.read())\n",
    "\n",
    "    l = [\"(\", \")\", \"[\", \"]\", \"CYTOWANIE\"]\n",
    "    i = 1\n",
    "    for token in doc:\n",
    "        if i+1 <= len(doc):\n",
    "            t1 = doc[i]\n",
    "\n",
    "        if t1.text == 'CYTOWANIE':\n",
    "            #print(token.text, token.lemma_, token.pos_, token.tag_  + \" B\")\n",
    "            line = str(token.text + \"\\t\" + token.lemma_ + \"\\t\" +  token.tag_  + \"\\t\" +  \"B\\n\")\n",
    "            out_tag.writelines(str(line))\n",
    "        else:\n",
    "            if token.text not in l:\n",
    "                #print(token.text, token.lemma_, token.pos_, token.tag_ + \" O\")\n",
    "                if token.text == \".\":\n",
    "                    line = str(token.text + \"\\t\" +  token.lemma_ + \"\\t\"  +  token.tag_ + \"\\t\" +  \"O\\n\\n\")\n",
    "                else:\n",
    "                    line = str(token.text + \"\\t\" +  token.lemma_ + \"\\t\"  +  token.tag_ + \"\\t\" +  \"O\\n\")\n",
    "                out_tag.writelines(str(line))\n",
    "        i += 1\n",
    "\n",
    "    file.close()\n",
    "    out_tag.close()"
   ]
  },
  {
   "cell_type": "code",
   "execution_count": null,
   "metadata": {},
   "outputs": [],
   "source": []
  }
 ],
 "metadata": {
  "kernelspec": {
   "display_name": "Python 3",
   "language": "python",
   "name": "python3"
  },
  "language_info": {
   "codemirror_mode": {
    "name": "ipython",
    "version": 3
   },
   "file_extension": ".py",
   "mimetype": "text/x-python",
   "name": "python",
   "nbconvert_exporter": "python",
   "pygments_lexer": "ipython3",
   "version": "3.7.6"
  }
 },
 "nbformat": 4,
 "nbformat_minor": 4
}
