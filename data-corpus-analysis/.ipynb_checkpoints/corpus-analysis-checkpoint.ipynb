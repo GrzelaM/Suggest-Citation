{
 "cells": [
  {
   "cell_type": "code",
   "execution_count": 1,
   "metadata": {},
   "outputs": [],
   "source": [
    "import mysql.connector\n",
    "import spacy\n",
    "import ipywidgets as wg\n",
    "import time\n",
    "import codecs\n",
    "\n",
    "from tabulate import tabulate\n",
    "from collections import Counter\n",
    "from IPython.display import display"
   ]
  },
  {
   "cell_type": "code",
   "execution_count": 2,
   "metadata": {},
   "outputs": [],
   "source": [
    "CORPUS = 29 #ilość dokumentów brana pod uwagę w zestawieniu \n",
    "most_common = 100 #ilość najczęściej występujących słów\n",
    "mydb = mysql.connector.connect(\n",
    "    host=\"localhost\",\n",
    "    user=\"root\",\n",
    "    passwd=\"\",\n",
    "    database=\"test\"\n",
    ")"
   ]
  },
  {
   "cell_type": "code",
   "execution_count": 3,
   "metadata": {},
   "outputs": [
    {
     "data": {
      "application/vnd.jupyter.widget-view+json": {
       "model_id": "9247155d34884a2486ec2c745485cc79",
       "version_major": 2,
       "version_minor": 0
      },
      "text/plain": [
       "IntProgress(value=1, description='Progress:', max=5000, min=1)"
      ]
     },
     "metadata": {},
     "output_type": "display_data"
    },
    {
     "name": "stdout",
     "output_type": "stream",
     "text": [
      "STATYSTYKI KORPUSU DLA 5000 ARTYKUŁÓW\n",
      "+-------------------+---------+---------------+\n",
      "|                   |   ILOŚĆ |   ID ARTYKUŁU |\n",
      "+===================+=========+===============+\n",
      "| NAJWIĘCEJ CYTOWAŃ |    2087 |          3284 |\n",
      "+-------------------+---------+---------------+\n",
      "| NAJMNIEJ CYTOWAŃ  |       2 |          1888 |\n",
      "+-------------------+---------+---------------+\n",
      "| NAJWIĘCEJ SŁÓW    |   46331 |          1720 |\n",
      "+-------------------+---------+---------------+\n",
      "| NAJMNIEJ SŁÓW     |     468 |          3010 |\n",
      "+-------------------+---------+---------------+\n",
      "| NAJWIĘCEJ ZDAŃ    |    2243 |          1736 |\n",
      "+-------------------+---------+---------------+\n",
      "| NAJMNIEJ ZDAŃ     |      16 |          3010 |\n",
      "+-------------------+---------+---------------+\n",
      "\n",
      "\n",
      "+--------------------+----------+------------------------+\n",
      "|                    |    ILOŚĆ |   ŚREDNIO NA 1 ARTYKUŁ |\n",
      "+====================+==========+========================+\n",
      "| CYTOWAŃ W KORPUSIE |   386808 |                     77 |\n",
      "+--------------------+----------+------------------------+\n",
      "| SŁÓW W KORPUSIE    | 33176641 |                   6635 |\n",
      "+--------------------+----------+------------------------+\n",
      "| ZDAŃ W KORPUSIE    |  1302955 |                    261 |\n",
      "+--------------------+----------+------------------------+\n",
      "\n",
      "ILOŚĆ SŁÓW NA ZDANIE W CAŁYM KORPUSIE: 25\n",
      "ILOŚĆ CYTOWAŃ NA ZDANIE W CAŁYM KORPUSIE: 0.297\n",
      "\n",
      "\n",
      "NAJCZĘŚCIEJ WYSTĘPUJĄCE SŁOWA(100) W CAŁYM KORPUSIE(5000):\n",
      "\n",
      "[('the', 1246669), ('of', 1044610), ('and', 798471), ('in', 665822), ('to', 477480), ('a', 359856), ('CYTOWANIE', 345073), ('with', 303952), ('for', 257729), ('that', 251921), ('were', 249642), ('is', 214281), ('by', 212132), ('cells', 211361), ('was', 201550), ('as', 160953), ('from', 151724), ('The', 149046), ('or', 139417), ('are', 137946), ('at', 121332), ('on', 114641), ('not', 103113), ('be', 100665), ('cell', 89705), ('an', 77696), ('this', 76967), ('mice', 76185), ('Fig', 75147), ('T', 69758), ('we', 69028), ('In', 67093), ('which', 64959), ('have', 64021), ('expression', 61054), ('A', 59907), ('these', 59838), ('using', 56750), ('data', 55889), ('also', 53505), ('B', 51795), ('C', 50240), ('between', 48321), ('been', 47260), ('used', 45387), ('after', 45105), ('but', 42952), ('genes', 42300), ('can', 41964), ('has', 41332), ('protein', 40635), ('may', 40478), ('shown', 39436), ('all', 39425), ('two', 39296), ('gene', 38824), ('anti', 38796), ('than', 38398), ('each', 38010), ('other', 37665), ('both', 37067), ('Figure', 36957), ('it', 36696), ('analysis', 36688), ('This', 35801), ('specific', 33909), ('We', 33263), ('more', 32973), ('levels', 32645), ('into', 32149), ('control', 32118), ('their', 31994), ('study', 31554), ('results', 31016), ('only', 30716), ('type', 30232), ('number', 30220), ('studies', 29383), ('one', 29195), ('different', 29100), ('proteins', 28725), ('time', 28363), ('patients', 27041), ('human', 26508), ('observed', 26394), ('such', 26307), ('found', 26014), ('response', 26008), ('activity', 25453), ('no', 24904), ('binding', 24683), ('our', 24543), ('described', 24511), ('high', 24362), ('ml', 24200), ('DNA', 23278), ('three', 22825), ('during', 22823), ('h', 22803), ('associated', 22601)]\n"
     ]
    }
   ],
   "source": [
    "#Pgrogress \n",
    "progress = wg.IntProgress(description='Progress:')\n",
    "progress.orientation='horizontal'\n",
    "progress.min = 1\n",
    "progress.max = CORPUS\n",
    "progress.step = 1\n",
    "display(progress)\n",
    "\n",
    "\n",
    "id_article = 0\n",
    "sentensInAll = 0\n",
    "wordsInAll = 0\n",
    "citationInAll = 0\n",
    "word_freq = Counter()\n",
    "\n",
    "maxCitation = 0\n",
    "idArticle_maxCitation = 0\n",
    "minCitation = 50\n",
    "idArticle_minCitation = 0\n",
    "minSentens = 300\n",
    "idArticle_minSentens = 0\n",
    "maxSentens = 0\n",
    "idArticle_maxSentens = 0\n",
    "minWords = 6000\n",
    "idArticle_minWords = 0\n",
    "maxWords = 0\n",
    "idArticle_maxWords = 0\n",
    "\n",
    "mycursor = mydb.cursor()\n",
    "for x in range(CORPUS):\n",
    "    id_article = id_article + 1\n",
    "    progress.value = id_article\n",
    "    \n",
    "    mycursor.execute(\"SELECT text, howManyQuotes FROM test WHERE ID_article = {Y}\".format(Y = id_article))\n",
    "    myresult = mycursor.fetchone()\n",
    "\n",
    "    nlp = spacy.load(\"en_core_web_sm\")\n",
    "    doc = nlp(myresult[0])\n",
    "\n",
    "    wordsInAll = wordsInAll + len(doc)\n",
    "    sentensInAll = sentensInAll + len(list(doc.sents))\n",
    "    citationInAll = citationInAll + myresult[1]\n",
    "    \n",
    "    words = [token.text for token in doc if token.is_punct != True and token.text.isspace() != True\n",
    "        and token.text.isalpha() == True]\n",
    "    word_freq += Counter(words)\n",
    "    \n",
    "    if(len(doc) > maxWords):\n",
    "        maxWords = len(doc)\n",
    "        idArticle_maxWords = id_article\n",
    "    if(len(doc) < minWords):\n",
    "        minWords = len(doc)\n",
    "        idArticle_minWords = id_article\n",
    "    if(len(list(doc.sents)) > maxSentens):\n",
    "        maxSentens = len(list(doc.sents))\n",
    "        idArticle_maxSentens = id_article\n",
    "    if(len(list(doc.sents)) < minSentens):\n",
    "        minSentens = len(list(doc.sents))\n",
    "        idArticle_minSentens = id_article\n",
    "    if(myresult[1] > maxCitation):\n",
    "        maxCitation = myresult[1]\n",
    "        idArticle_maxCitation = id_article\n",
    "    if(myresult[1] < minCitation):\n",
    "        minCitation = myresult[1]\n",
    "        idArticle_minCitation = id_article\n",
    "        \n",
    "myDataForAll = [(\"NAJWIĘCEJ CYTOWAŃ\", \"{xyz}\".format(xyz = maxCitation), \"{xyz}\".format(xyz = idArticle_maxCitation)),\n",
    "               (\"NAJMNIEJ CYTOWAŃ\", \"{xyz}\".format(xyz = minCitation), \"{xyz}\".format(xyz = idArticle_minCitation)),\n",
    "               (\"NAJWIĘCEJ SŁÓW\", \"{xyz}\".format(xyz = maxWords), \"{xyz}\".format(xyz = idArticle_maxWords)),\n",
    "               (\"NAJMNIEJ SŁÓW\", \"{xyz}\".format(xyz = minWords), \"{xyz}\".format(xyz = idArticle_minWords)),\n",
    "               (\"NAJWIĘCEJ ZDAŃ\", \"{xyz}\".format(xyz = maxSentens), \"{xyz}\".format(xyz = idArticle_maxSentens)),\n",
    "               (\"NAJMNIEJ ZDAŃ\", \"{xyz}\".format(xyz = minSentens), \"{xyz}\".format(xyz = idArticle_minSentens))]\n",
    "headers = [\"\", \"ILOŚĆ\", \"ID ARTYKUŁU\"]\n",
    "print(\"STATYSTYKI KORPUSU DLA {xyz} ARTYKUŁÓW\\n\".format(xyz = CORPUS) + tabulate(myDataForAll,headers=headers, tablefmt=\"grid\"))\n",
    "myDataForAll_2 = [(\"CYTOWAŃ W KORPUSIE\", \"{xyz}\".format(xyz = citationInAll), \"{xyz}\".format(xyz = round(citationInAll/CORPUS))),\n",
    "                 (\"SŁÓW W KORPUSIE\", \"{xyz}\".format(xyz = wordsInAll), \"{xyz}\".format(xyz = round(wordsInAll/CORPUS))),\n",
    "                 (\"ZDAŃ W KORPUSIE\", \"{xyz}\".format(xyz = sentensInAll), \"{xyz}\".format(xyz = round(sentensInAll/CORPUS)))]\n",
    "headers_2 = [\"\", \"ILOŚĆ\", \"ŚREDNIO NA 1 ARTYKUŁ\"]\n",
    "print(\"\\n\\n\" + tabulate(myDataForAll_2,headers=headers_2, tablefmt=\"grid\"))\n",
    "\n",
    "print(\"\\nILOŚĆ SŁÓW NA ZDANIE W CAŁYM KORPUSIE: \" + str(round(wordsInAll/sentensInAll)))\n",
    "print(\"ILOŚĆ CYTOWAŃ NA ZDANIE W CAŁYM KORPUSIE: \" + str(round(citationInAll/sentensInAll,3)))\n",
    "\n",
    "common_words = word_freq.most_common(most_common)\n",
    "print(\"\\n\\nNAJCZĘŚCIEJ WYSTĘPUJĄCE SŁOWA({xyz}) W CAŁYM KORPUSIE({abc}):\\n\\n\".format(xyz = most_common, abc = CORPUS) + str(common_words))\n",
    "\n",
    "#do pliku zestawienie\n",
    "with codecs.open(\"CORPUS_STATISTIC.txt\", 'w', encoding='utf8') as f:\n",
    "    f.write(\"STATYSTYKI KORPUSU DLA {xyz} ARTYKUŁÓW\\n\".format(xyz = CORPUS) + tabulate(myDataForAll,headers=headers, tablefmt=\"grid\"))\n",
    "    f.write(\"\\n\\n\" + tabulate(myDataForAll_2,headers=headers_2, tablefmt=\"grid\"))\n",
    "    f.write(\"\\n\\nILOŚĆ SŁÓW NA ZDANIE W CAŁYM KORPUSIE: \" + str(round(wordsInAll/sentensInAll)))\n",
    "    f.write(\"\\nILOŚĆ CYTOWAŃ NA ZDANIE W CAŁYM KORPUSIE: \" + str(round(citationInAll/sentensInAll,3)))\n",
    "    f.write(\"\\n\\nNAJCZĘŚCIEJ WYSTĘPUJĄCE SŁOWA({xyz}) W CAŁYM KORPUSIE({abc}):\\n\\n\".format(xyz = most_common, abc = CORPUS) + str(common_words))\n",
    "\n",
    "f.close()"
   ]
  },
  {
   "cell_type": "code",
   "execution_count": 4,
   "metadata": {},
   "outputs": [
    {
     "data": {
      "application/vnd.jupyter.widget-view+json": {
       "model_id": "0c44913573fe424ca0298b22e7d30874",
       "version_major": 2,
       "version_minor": 0
      },
      "text/plain": [
       "IntText(value=1, description='ID DOKUMENTU:')"
      ]
     },
     "metadata": {},
     "output_type": "display_data"
    },
    {
     "data": {
      "application/vnd.jupyter.widget-view+json": {
       "model_id": "8664aeb52a7c420bb249a206390dfeab",
       "version_major": 2,
       "version_minor": 0
      },
      "text/plain": [
       "IntSlider(value=1, description='ID DOKUMENTU:', max=5000, min=1)"
      ]
     },
     "metadata": {},
     "output_type": "display_data"
    },
    {
     "data": {
      "application/vnd.jupyter.widget-view+json": {
       "model_id": "2d630dfe31e34857b4762eb778f9ba53",
       "version_major": 2,
       "version_minor": 0
      },
      "text/plain": [
       "Output()"
      ]
     },
     "metadata": {},
     "output_type": "display_data"
    }
   ],
   "source": [
    "mycursor = mydb.cursor()\n",
    "\n",
    "text = wg.IntText(description='ID DOKUMENTU:', value=1)\n",
    "slider = wg.IntSlider(min=1,max=CORPUS,orientation='horizontal',description='ID DOKUMENTU:')\n",
    "output = wg.Output()\n",
    "\n",
    "\n",
    "def pickOneArticle(x):\n",
    "    with output:\n",
    "        output.clear_output()\n",
    "\n",
    "        mylink = wg.jslink((text,'value'),(slider,'value'))\n",
    "        mycursor = mydb.cursor()\n",
    "        mycursor.execute(\"SELECT text, howManyQuotes FROM test WHERE ID_article = {X}\".format(X= int(text.value)))\n",
    "        myresult = mycursor.fetchone()\n",
    "\n",
    "\n",
    "        nlp = spacy.load(\"en_core_web_sm\")\n",
    "        doc = nlp(myresult[0])\n",
    "\n",
    "        print(\"ID ARTYKUŁU: {xyz}\".format(xyz = text.value))\n",
    "        mydata = [(\"CYTOWANIA\", \"{xyz}\".format(xyz = myresult[1])),\n",
    "                 (\"SŁOWA\", \"{xyz}\".format(xyz = len(doc))),\n",
    "                 (\"ZDANIA\", \"{xyz}\".format(xyz = len(list(doc.sents))))]\n",
    "        headers = [\"\", \"ILOŚĆ\"]\n",
    "        print(\"\\nSTATYSTYKI\\n\" + tabulate(mydata,headers=headers, tablefmt=\"grid\"))\n",
    "        print(\"ILOŚĆ SŁÓW NA ZDANIE: \" + str(round(len(doc)/len(list(doc.sents)))))\n",
    "        print(\"ILOŚĆ CYTOWAŃ NA ZDANIE: \" + str(round(myresult[1]/len(list(doc.sents)),3)))\n",
    "        #u2009 - cienka spacja \n",
    "        words = [token.text for token in doc if token.is_punct != True and token.text.isspace() != True\n",
    "                and token.text.isalpha() == True]\n",
    "\n",
    "        word_freq = Counter(words)\n",
    "        common_words = word_freq.most_common(most_common)\n",
    "        print (\"\\nNAJCZĘŚCIEJ WYSTĘPUJĄCE SŁOWA({xyz}): \".format(xyz = most_common))\n",
    "        print (common_words) #najczęściej występujące słowa\n",
    "        print(\"\\nTEKST ARTYKUŁU:\\n\" + myresult[0]) #tekst\n",
    "           \n",
    "        \n",
    "\n",
    "\n",
    "display(text,slider)\n",
    "display(output)\n",
    "text.observe(pickOneArticle, names='value')"
   ]
  }
 ],
 "metadata": {
  "kernelspec": {
   "display_name": "Python 3",
   "language": "python",
   "name": "python3"
  },
  "language_info": {
   "codemirror_mode": {
    "name": "ipython",
    "version": 3
   },
   "file_extension": ".py",
   "mimetype": "text/x-python",
   "name": "python",
   "nbconvert_exporter": "python",
   "pygments_lexer": "ipython3",
   "version": "3.7.6"
  }
 },
 "nbformat": 4,
 "nbformat_minor": 4
}
