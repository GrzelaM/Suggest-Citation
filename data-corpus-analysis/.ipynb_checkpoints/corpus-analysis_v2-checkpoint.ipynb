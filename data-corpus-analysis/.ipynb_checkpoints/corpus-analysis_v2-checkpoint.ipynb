{
 "cells": [
  {
   "cell_type": "code",
   "execution_count": 1,
   "metadata": {},
   "outputs": [],
   "source": [
    "import codecs\n",
    "import datetime\n",
    "import ipywidgets as wg\n",
    "import matplotlib.pyplot as plt\n",
    "import mysql.connector\n",
    "import numpy as np\n",
    "import spacy\n",
    "import time\n",
    "\n",
    "\n",
    "from tabulate import tabulate\n",
    "from collections import Counter\n",
    "from IPython.display import display"
   ]
  },
  {
   "cell_type": "code",
   "execution_count": 2,
   "metadata": {},
   "outputs": [],
   "source": [
    "CORPUS = 20000 #ilość dokumentów brana pod uwagę w zestawieniu \n",
    "most_common = 100 #ilość najczęściej występujących słów\n",
    "mydb = mysql.connector.connect(\n",
    "    host=\"localhost\",\n",
    "    user=\"root\",\n",
    "    passwd=\"\",\n",
    "    database=\"articledb\"\n",
    ")"
   ]
  },
  {
   "cell_type": "code",
   "execution_count": 3,
   "metadata": {},
   "outputs": [
    {
     "data": {
      "application/vnd.jupyter.widget-view+json": {
       "model_id": "76f997a22885488683cc9c8a16036318",
       "version_major": 2,
       "version_minor": 0
      },
      "text/plain": [
       "IntProgress(value=1, description='Progress:', max=20000, min=1)"
      ]
     },
     "metadata": {},
     "output_type": "display_data"
    },
    {
     "name": "stdout",
     "output_type": "stream",
     "text": [
      "STATYSTYKI KORPUSU DLA 20000 ARTYKUŁÓW\n",
      "+-------------------+---------+---------------+\n",
      "|                   |   ILOŚĆ |   ID ARTYKUŁU |\n",
      "+===================+=========+===============+\n",
      "| NAJWIĘCEJ CYTOWAŃ |     824 |         16577 |\n",
      "+-------------------+---------+---------------+\n",
      "| NAJMNIEJ CYTOWAŃ  |       1 |           157 |\n",
      "+-------------------+---------+---------------+\n",
      "| NAJWIĘCEJ SŁÓW    |   68269 |          6382 |\n",
      "+-------------------+---------+---------------+\n",
      "| NAJMNIEJ SŁÓW     |       0 |         19835 |\n",
      "+-------------------+---------+---------------+\n",
      "| NAJWIĘCEJ ZDAŃ    |    3596 |          7666 |\n",
      "+-------------------+---------+---------------+\n",
      "| NAJMNIEJ ZDAŃ     |       0 |         19835 |\n",
      "+-------------------+---------+---------------+\n",
      "\n",
      "\n",
      "+--------------------+----------+------------------------+\n",
      "|                    |    ILOŚĆ |   ŚREDNIO NA 1 ARTYKUŁ |\n",
      "+====================+==========+========================+\n",
      "| CYTOWAŃ W KORPUSIE |  1012293 |                     51 |\n",
      "+--------------------+----------+------------------------+\n",
      "| SŁÓW W KORPUSIE    | 87111677 |                   4356 |\n",
      "+--------------------+----------+------------------------+\n",
      "| ZDAŃ W KORPUSIE    |  3004888 |                    150 |\n",
      "+--------------------+----------+------------------------+\n",
      "\n",
      "ILOŚĆ SŁÓW NA ZDANIE W CAŁYM KORPUSIE: 29\n",
      "ILOŚĆ CYTOWAŃ NA ZDANIE W CAŁYM KORPUSIE: 0.337\n",
      "\n",
      "\n",
      "NAJCZĘŚCIEJ WYSTĘPUJĄCE SŁOWA(100) W CAŁYM KORPUSIE(20000):\n",
      "\n",
      "[('the', 3592530), ('of', 2657382), ('and', 2210505), ('in', 1636556), ('to', 1340033), ('a', 966615), ('CYTOWANIE', 911964), ('with', 750113), ('for', 675330), ('was', 651002), ('were', 622896), ('is', 555555), ('that', 534962), ('The', 480462), ('by', 441679), ('as', 441151), ('on', 337810), ('from', 334729), ('are', 321660), ('at', 309253), ('be', 285793), ('or', 275442), ('not', 216061), ('this', 206345), ('an', 201711), ('which', 182085), ('study', 177515), ('In', 175055), ('cells', 167690), ('have', 165149), ('between', 161723), ('using', 158842), ('we', 156345), ('patients', 155955), ('used', 136489), ('also', 128993), ('can', 119053), ('data', 116473), ('than', 115194), ('been', 115169), ('has', 112700), ('it', 110721), ('these', 110408), ('all', 108302), ('two', 105418), ('more', 103089), ('each', 102757), ('A', 102707), ('their', 101370), ('cell', 101180), ('other', 98941), ('may', 98850), ('after', 97630), ('et', 97330), ('al', 96731), ('time', 96478), ('This', 95539), ('group', 94298), ('analysis', 92835), ('C', 92632), ('results', 88702), ('expression', 87850), ('different', 87368), ('one', 85994), ('our', 85791), ('but', 84035), ('both', 83590), ('treatment', 81422), ('significant', 79536), ('high', 77705), ('no', 77555), ('such', 77309), ('had', 76227), ('studies', 76043), ('number', 74010), ('control', 73778), ('only', 73403), ('We', 72447), ('into', 71602), ('during', 71238), ('found', 70893), ('compared', 69517), ('levels', 68884), ('based', 68808), ('p', 66678), ('reported', 66452), ('observed', 65859), ('shown', 65705), ('well', 64809), ('performed', 63346), ('could', 63241), ('However', 62341), ('protein', 61733), ('model', 60961), ('when', 60779), ('three', 60073), ('level', 59798), ('associated', 59609), ('showed', 59365), ('higher', 58922)]\n",
      "\n",
      "\n",
      "EXECUTION TIME - 7:14:10.666028\n"
     ]
    }
   ],
   "source": [
    "#Pgrogress \n",
    "progress = wg.IntProgress(description='Progress:')\n",
    "progress.orientation='horizontal'\n",
    "progress.min = 1\n",
    "progress.max = CORPUS\n",
    "progress.step = 250\n",
    "display(progress)\n",
    "\n",
    "start_time = time.time()\n",
    "\n",
    "id_article = 0\n",
    "sentensInAll = 0\n",
    "wordsInAll = 0\n",
    "citationInAll = 0\n",
    "word_freq = Counter()\n",
    "\n",
    "maxCitation = 0\n",
    "idArticle_maxCitation = 0\n",
    "minCitation = 50\n",
    "idArticle_minCitation = 0\n",
    "minSentens = 300\n",
    "idArticle_minSentens = 0\n",
    "maxSentens = 0\n",
    "idArticle_maxSentens = 0\n",
    "minWords = 6000\n",
    "idArticle_minWords = 0\n",
    "maxWords = 0\n",
    "idArticle_maxWords = 0\n",
    "\n",
    "mycursor = mydb.cursor()\n",
    "for x in range(CORPUS):\n",
    "    id_article = id_article + 1\n",
    "    progress.value = id_article\n",
    "    \n",
    "    mycursor.execute(\"SELECT text, howManyQuotes FROM test WHERE ID_article = {Y}\".format(Y = id_article))\n",
    "    myresult = mycursor.fetchone()\n",
    "\n",
    "    nlp = spacy.load(\"en_core_web_sm\")\n",
    "    doc = nlp(myresult[0])\n",
    "\n",
    "    wordsInAll = wordsInAll + len(doc)\n",
    "    sentensInAll = sentensInAll + len(list(doc.sents))\n",
    "    citationInAll = citationInAll + myresult[1]\n",
    "    \n",
    "    words = [token.text for token in doc if token.is_punct != True and token.text.isspace() != True\n",
    "        and token.text.isalpha() == True]\n",
    "    word_freq += Counter(words)\n",
    "    \n",
    "    if(len(doc) > maxWords):\n",
    "        maxWords = len(doc)\n",
    "        idArticle_maxWords = id_article\n",
    "    elif(len(doc) < minWords):\n",
    "        minWords = len(doc)\n",
    "        idArticle_minWords = id_article\n",
    "    if(len(list(doc.sents)) > maxSentens):\n",
    "        maxSentens = len(list(doc.sents))\n",
    "        idArticle_maxSentens = id_article\n",
    "    elif(len(list(doc.sents)) < minSentens):\n",
    "        minSentens = len(list(doc.sents))\n",
    "        idArticle_minSentens = id_article\n",
    "    if(myresult[1] > maxCitation):\n",
    "        maxCitation = myresult[1]\n",
    "        idArticle_maxCitation = id_article\n",
    "    elif(myresult[1] < minCitation):\n",
    "        minCitation = myresult[1]\n",
    "        idArticle_minCitation = id_article\n",
    "        \n",
    "myDataForAll = [(\"NAJWIĘCEJ CYTOWAŃ\", \"{xyz}\".format(xyz = maxCitation), \"{xyz}\".format(xyz = idArticle_maxCitation)),\n",
    "               (\"NAJMNIEJ CYTOWAŃ\", \"{xyz}\".format(xyz = minCitation), \"{xyz}\".format(xyz = idArticle_minCitation)),\n",
    "               (\"NAJWIĘCEJ SŁÓW\", \"{xyz}\".format(xyz = maxWords), \"{xyz}\".format(xyz = idArticle_maxWords)),\n",
    "               (\"NAJMNIEJ SŁÓW\", \"{xyz}\".format(xyz = minWords), \"{xyz}\".format(xyz = idArticle_minWords)),\n",
    "               (\"NAJWIĘCEJ ZDAŃ\", \"{xyz}\".format(xyz = maxSentens), \"{xyz}\".format(xyz = idArticle_maxSentens)),\n",
    "               (\"NAJMNIEJ ZDAŃ\", \"{xyz}\".format(xyz = minSentens), \"{xyz}\".format(xyz = idArticle_minSentens))]\n",
    "headers = [\"\", \"ILOŚĆ\", \"ID ARTYKUŁU\"]\n",
    "print(\"STATYSTYKI KORPUSU DLA {xyz} ARTYKUŁÓW\\n\".format(xyz = CORPUS) + tabulate(myDataForAll,headers=headers, tablefmt=\"grid\"))\n",
    "myDataForAll_2 = [(\"CYTOWAŃ W KORPUSIE\", \"{xyz}\".format(xyz = citationInAll), \"{xyz}\".format(xyz = round(citationInAll/CORPUS))),\n",
    "                 (\"SŁÓW W KORPUSIE\", \"{xyz}\".format(xyz = wordsInAll), \"{xyz}\".format(xyz = round(wordsInAll/CORPUS))),\n",
    "                 (\"ZDAŃ W KORPUSIE\", \"{xyz}\".format(xyz = sentensInAll), \"{xyz}\".format(xyz = round(sentensInAll/CORPUS)))]\n",
    "headers_2 = [\"\", \"ILOŚĆ\", \"ŚREDNIO NA 1 ARTYKUŁ\"]\n",
    "print(\"\\n\\n\" + tabulate(myDataForAll_2,headers=headers_2, tablefmt=\"grid\"))\n",
    "\n",
    "print(\"\\nILOŚĆ SŁÓW NA ZDANIE W CAŁYM KORPUSIE: \" + str(round(wordsInAll/sentensInAll)))\n",
    "print(\"ILOŚĆ CYTOWAŃ NA ZDANIE W CAŁYM KORPUSIE: \" + str(round(citationInAll/sentensInAll,3)))\n",
    "\n",
    "common_words = word_freq.most_common(most_common)\n",
    "print(\"\\n\\nNAJCZĘŚCIEJ WYSTĘPUJĄCE SŁOWA({xyz}) W CAŁYM KORPUSIE({abc}):\\n\\n\".format(xyz = most_common, abc = CORPUS) + str(common_words))\n",
    "\n",
    "\n",
    "execution_time = time.time() - start_time\n",
    "print(\"\\n\\nEXECUTION TIME - \" + str(datetime.timedelta(seconds=execution_time)))\n",
    "\n",
    "#do pliku zestawienie\n",
    "with codecs.open(\"CORPUS_STATISTIC.txt\", 'w', encoding='utf8') as f:\n",
    "    f.write(\"STATYSTYKI KORPUSU DLA {xyz} ARTYKUŁÓW\\n\".format(xyz = CORPUS) + tabulate(myDataForAll,headers=headers, tablefmt=\"grid\"))\n",
    "    f.write(\"\\n\\n\" + tabulate(myDataForAll_2,headers=headers_2, tablefmt=\"grid\"))\n",
    "    f.write(\"\\n\\nILOŚĆ SŁÓW NA ZDANIE W CAŁYM KORPUSIE: \" + str(round(wordsInAll/sentensInAll)))\n",
    "    f.write(\"\\nILOŚĆ CYTOWAŃ NA ZDANIE W CAŁYM KORPUSIE: \" + str(round(citationInAll/sentensInAll,3)))\n",
    "    f.write(\"\\n\\nNAJCZĘŚCIEJ WYSTĘPUJĄCE SŁOWA({xyz}) W CAŁYM KORPUSIE({abc}):\\n\\n\".format(xyz = most_common, abc = CORPUS) + str(common_words))\n",
    "    f.write(\"\\n\\nEXECUTION TIME - \" + str(datetime.timedelta(seconds=execution_time)))\n",
    "f.close()\n",
    "\n"
   ]
  },
  {
   "cell_type": "code",
   "execution_count": 4,
   "metadata": {},
   "outputs": [
    {
     "data": {
      "application/vnd.jupyter.widget-view+json": {
       "model_id": "343fed606e0c4225afac70904b5c05c3",
       "version_major": 2,
       "version_minor": 0
      },
      "text/plain": [
       "IntText(value=1, description='ID DOKUMENTU:')"
      ]
     },
     "metadata": {},
     "output_type": "display_data"
    },
    {
     "data": {
      "application/vnd.jupyter.widget-view+json": {
       "model_id": "83cf26c8a28f4ab8ae1c95dc4b1398fb",
       "version_major": 2,
       "version_minor": 0
      },
      "text/plain": [
       "IntSlider(value=1, description='ID DOKUMENTU:', max=15, min=1)"
      ]
     },
     "metadata": {},
     "output_type": "display_data"
    },
    {
     "data": {
      "application/vnd.jupyter.widget-view+json": {
       "model_id": "4c6fe9ce0200426abc5538ba8d3a0371",
       "version_major": 2,
       "version_minor": 0
      },
      "text/plain": [
       "Output()"
      ]
     },
     "metadata": {},
     "output_type": "display_data"
    }
   ],
   "source": [
    "mycursor = mydb.cursor()\n",
    "\n",
    "text = wg.IntText(description='ID DOKUMENTU:', value=1)\n",
    "slider = wg.IntSlider(min=1,max=CORPUS,orientation='horizontal',description='ID DOKUMENTU:')\n",
    "output = wg.Output()\n",
    "\n",
    "\n",
    "def pickOneArticle(x):\n",
    "    with output:\n",
    "        output.clear_output()\n",
    "\n",
    "        mylink = wg.jslink((text,'value'),(slider,'value'))\n",
    "        mycursor = mydb.cursor()\n",
    "        mycursor.execute(\"SELECT text, howManyQuotes FROM test WHERE ID_article = {X}\".format(X= int(text.value)))\n",
    "        myresult = mycursor.fetchone()\n",
    "\n",
    "\n",
    "        nlp = spacy.load(\"en_core_web_sm\")\n",
    "        doc = nlp(myresult[0])\n",
    "\n",
    "        print(\"ID ARTYKUŁU: {xyz}\".format(xyz = text.value))\n",
    "        mydata = [(\"CYTOWANIA\", \"{xyz}\".format(xyz = myresult[1])),\n",
    "                 (\"SŁOWA\", \"{xyz}\".format(xyz = len(doc))),\n",
    "                 (\"ZDANIA\", \"{xyz}\".format(xyz = len(list(doc.sents))))]\n",
    "        headers = [\"\", \"ILOŚĆ\"]\n",
    "        print(\"\\nSTATYSTYKI\\n\" + tabulate(mydata,headers=headers, tablefmt=\"grid\"))\n",
    "        print(\"ILOŚĆ SŁÓW NA ZDANIE: \" + str(round(len(doc)/len(list(doc.sents)))))\n",
    "        print(\"ILOŚĆ CYTOWAŃ NA ZDANIE: \" + str(round(myresult[1]/len(list(doc.sents)),3)))\n",
    "        #u2009 - cienka spacja \n",
    "        words = [token.text for token in doc if token.is_punct != True and token.text.isspace() != True\n",
    "                and token.text.isalpha() == True]\n",
    "\n",
    "        word_freq = Counter(words)\n",
    "        common_words = word_freq.most_common(most_common)\n",
    "        print (\"\\nNAJCZĘŚCIEJ WYSTĘPUJĄCE SŁOWA({xyz}): \".format(xyz = most_common))\n",
    "        print (common_words) #najczęściej występujące słowa\n",
    "        print(\"\\nTEKST ARTYKUŁU:\\n\" + myresult[0]) #tekst\n",
    "           \n",
    "        \n",
    "\n",
    "\n",
    "display(text,slider)\n",
    "display(output)\n",
    "text.observe(pickOneArticle, names='value')"
   ]
  },
  {
   "cell_type": "code",
   "execution_count": 11,
   "metadata": {},
   "outputs": [
    {
     "data": {
      "application/vnd.jupyter.widget-view+json": {
       "model_id": "be52c83f8a984d3e8986d0051dcb1a21",
       "version_major": 2,
       "version_minor": 0
      },
      "text/plain": [
       "IntProgress(value=1, description='Progress:', max=20000, min=1)"
      ]
     },
     "metadata": {},
     "output_type": "display_data"
    },
    {
     "data": {
      "image/png": "[encoded data removed]",
      "text/plain": [
       "<Figure size 432x288 with 1 Axes>"
      ]
     },
     "metadata": {
      "needs_background": "light"
     },
     "output_type": "display_data"
    }
   ],
   "source": [
    "#Pgrogress \n",
    "progress = wg.IntProgress(description='Progress:')\n",
    "progress.orientation='horizontal'\n",
    "progress.min = 1\n",
    "progress.max = CORPUS\n",
    "progress.step = 1\n",
    "display(progress)\n",
    "\n",
    "mycursor = mydb.cursor()\n",
    "CORPUS = 20000\n",
    "id_article = 0\n",
    "\n",
    "citation_tab = []\n",
    "\n",
    "for x in range(CORPUS):\n",
    "    id_article = id_article + 1\n",
    "    progress.value = id_article\n",
    "    \n",
    "    mycursor.execute(\"SELECT text, howManyQuotes FROM test WHERE ID_article = {Y}\".format(Y = id_article))\n",
    "    myresult = mycursor.fetchone()\n",
    "    \n",
    "    citation_tab.append(myresult[1])\n",
    "    \n",
    "plt.hist(citation_tab, 30, range=[0, 200], facecolor='gray', align='mid')\n",
    "#plt.hist(citation_tab, bins=20, range=(0,200,10))\n",
    "plt.show() "
   ]
  }
 ],
 "metadata": {
  "kernelspec": {
   "display_name": "Python 3",
   "language": "python",
   "name": "python3"
  },
  "language_info": {
   "codemirror_mode": {
    "name": "ipython",
    "version": 3
   },
   "file_extension": ".py",
   "mimetype": "text/x-python",
   "name": "python",
   "nbconvert_exporter": "python",
   "pygments_lexer": "ipython3",
   "version": "3.7.6"
  }
 },
 "nbformat": 4,
 "nbformat_minor": 4
}
